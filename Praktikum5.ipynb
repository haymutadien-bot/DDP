{
  "nbformat": 4,
  "nbformat_minor": 0,
  "metadata": {
    "colab": {
      "provenance": [],
      "authorship_tag": "ABX9TyP/2UE2n7J9ZFEsVLnR44ZW",
      "include_colab_link": true
    },
    "kernelspec": {
      "name": "python3",
      "display_name": "Python 3"
    },
    "language_info": {
      "name": "python"
    }
  },
  "cells": [
    {
      "cell_type": "markdown",
      "metadata": {
        "id": "view-in-github",
        "colab_type": "text"
      },
      "source": [
        "<a href=\"https://colab.research.google.com/github/haymutadien-bot/DDP/blob/main/Praktikum5.ipynb\" target=\"_parent\"><img src=\"https://colab.research.google.com/assets/colab-badge.svg\" alt=\"Open In Colab\"/></a>"
      ]
    },
    {
      "cell_type": "code",
      "execution_count": 20,
      "metadata": {
        "colab": {
          "base_uri": "https://localhost:8080/"
        },
        "id": "5OWqDZrgz1sE",
        "outputId": "c7ba6095-cd59-4e2e-9102-4110cabfa59a"
      },
      "outputs": [
        {
          "output_type": "stream",
          "name": "stdout",
          "text": [
            "['Beat Ember', 'motor', 200, 'hitam', 2]\n",
            "['Beat Ember', 'motor', 200, 'hitam', 2, 5000, 'metic']\n",
            "['Beat Ember', 'motor', 'Honda', 200, 'hitam', 2, 5000, 'metic']\n"
          ]
        }
      ],
      "source": [
        "namaKendaraan = \"Beat Ember\"\n",
        "jenisKendaraan = \"motor\"\n",
        "ccKendaraan = 200\n",
        "warnaKendaraan = \"hitam\"\n",
        "rodaKendaraan = 2\n",
        "\n",
        "data_kendaraan = [namaKendaraan, jenisKendaraan, ccKendaraan, warnaKendaraan, rodaKendaraan]\n",
        "print(data_kendaraan)\n",
        "\n",
        "hargaKendaraan = 5000\n",
        "tipeKendaraan = \"metic\"\n",
        "\n",
        "data_kendaraan.append(hargaKendaraan)\n",
        "data_kendaraan.append(tipeKendaraan)\n",
        "print(data_kendaraan)\n",
        "\n",
        "merkKendaraan = \"Honda\"\n",
        "data_kendaraan.insert(2, merkKendaraan)\n",
        "print(data_kendaraan)"
      ]
    },
    {
      "cell_type": "code",
      "source": [
        "pilihan = input(\"\"\"\n",
        "Silahkan pilih menu yang di inginkan\n",
        "====================================\n",
        "1. Luas persegi\n",
        "2. Luas lingkaran\n",
        "3. Luas segitiga\n",
        "====================================\n",
        "Kirimkan hanya angka saja,\n",
        "jawaban= \"\"\")\n",
        "\n",
        "match pilihan:\n",
        "  case \"1\":\n",
        "    print(\"anda memilih luas persegi silahkan isi data dibawah\")\n",
        "    sisi = int(input(\"sisi = \"))\n",
        "    luas = sisi * sisi\n",
        "\n",
        "    print(f\"luas persegi dengan sisi {sisi} adalah {luas}\")\n",
        "    # luas persegi\n",
        "  case \"2\":\n",
        "    # luas lingkaran\n",
        "    # phi * jarijari**2\n",
        "    print(\"anda memilih luas lingkaran silahkan isi data dibawah\")\n",
        "    jarijari = int(input(\"jarijari = \"))\n",
        "    luas = 3.14 * jarijari**2\n",
        "\n",
        "    print(f\"luas lingkaran dengan jarijari {jarijari} adalah {luas}\")\n",
        "  case \"3\":\n",
        "    # luas segitiga\n",
        "    # (alas * tinggi)/2\n",
        "    print(\"anda memilih luas segitiga silahkan isi data dibawah\")\n",
        "    alas = int(input(\"tinggi = \"))\n",
        "    tinggi = int(input(\"jarijari = \"))\n",
        "    luas = (alas * tinggi) /2\n",
        "  case _:\n",
        "    print(\"gatau ya\")"
      ],
      "metadata": {
        "id": "kBI6lvQ29Q3e",
        "outputId": "6814ca6d-b428-47f4-c499-2ee87a921fa0",
        "colab": {
          "base_uri": "https://localhost:8080/"
        }
      },
      "execution_count": 37,
      "outputs": [
        {
          "output_type": "stream",
          "name": "stdout",
          "text": [
            "\n",
            "Silahkan pilih menu yang di inginkan \n",
            "====================================\n",
            "1. Luas persegi\n",
            "2. Luas lingkaran\n",
            "3. Luas segitiga\n",
            "====================================\n",
            "Kirimkan hanya angka saja,\n",
            "jawaban= 2\n",
            "anda memilih luas lingkaran silahkan isi data dibawah\n",
            "jarijari = 3\n",
            "luas lingkaran dengan jarijari 3 adalah 28.26\n"
          ]
        }
      ]
    }
  ]
}